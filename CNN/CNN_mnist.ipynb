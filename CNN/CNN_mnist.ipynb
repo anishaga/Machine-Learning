{
  "nbformat": 4,
  "nbformat_minor": 0,
  "metadata": {
    "colab": {
      "name": "CNN_mnist.ipynb",
      "provenance": [],
      "collapsed_sections": []
    },
    "kernelspec": {
      "name": "python3",
      "display_name": "Python 3"
    },
    "language_info": {
      "name": "python"
    }
  },
  "cells": [
    {
      "cell_type": "markdown",
      "source": [
        "## Importing Relevant Libraries"
      ],
      "metadata": {
        "id": "cUrQk4wz2R4c"
      }
    },
    {
      "cell_type": "code",
      "execution_count": null,
      "metadata": {
        "id": "_DG7eNQy01LX"
      },
      "outputs": [],
      "source": [
        "import numpy as np\n",
        "from keras.datasets import mnist\n",
        "import tensorflow as tf"
      ]
    },
    {
      "cell_type": "markdown",
      "source": [
        "## Importing Inbuilt DataSet"
      ],
      "metadata": {
        "id": "3pI4EX_Y2blK"
      }
    },
    {
      "cell_type": "code",
      "source": [
        "(X_train, y_train), (X_test, y_test) = mnist.load_data()"
      ],
      "metadata": {
        "id": "gC0i1ZDW1PUp",
        "colab": {
          "base_uri": "https://localhost:8080/"
        },
        "outputId": "c24486c6-dab7-45f4-811d-a75507363c51"
      },
      "execution_count": null,
      "outputs": [
        {
          "output_type": "stream",
          "name": "stdout",
          "text": [
            "Downloading data from https://storage.googleapis.com/tensorflow/tf-keras-datasets/mnist.npz\n",
            "11493376/11490434 [==============================] - 0s 0us/step\n",
            "11501568/11490434 [==============================] - 0s 0us/step\n"
          ]
        }
      ]
    },
    {
      "cell_type": "code",
      "source": [
        "X_train.shape"
      ],
      "metadata": {
        "colab": {
          "base_uri": "https://localhost:8080/"
        },
        "id": "S54VaO6E1lHv",
        "outputId": "5ccedcbd-0ce2-4294-876e-8eb3f7e139c2"
      },
      "execution_count": null,
      "outputs": [
        {
          "output_type": "execute_result",
          "data": {
            "text/plain": [
              "(60000, 28, 28)"
            ]
          },
          "metadata": {},
          "execution_count": 3
        }
      ]
    },
    {
      "cell_type": "markdown",
      "source": [
        "## Reshaping The Data"
      ],
      "metadata": {
        "id": "rID_MTBq2ef2"
      }
    },
    {
      "cell_type": "code",
      "source": [
        "X_train = np.reshape(X_train, (X_train.shape[0],X_train.shape[1],X_train.shape[2], 1))\n",
        "X_test = np.reshape(X_test, (X_test.shape[0], X_test.shape[1], X_test.shape[2], 1))"
      ],
      "metadata": {
        "id": "4lW39AQ91npq"
      },
      "execution_count": null,
      "outputs": []
    },
    {
      "cell_type": "code",
      "source": [
        "X_train.shape"
      ],
      "metadata": {
        "colab": {
          "base_uri": "https://localhost:8080/"
        },
        "id": "YssHHdYD2QMe",
        "outputId": "c69e6b65-9c6a-4f1f-8afb-307e5e7c99e3"
      },
      "execution_count": null,
      "outputs": [
        {
          "output_type": "execute_result",
          "data": {
            "text/plain": [
              "(60000, 28, 28, 1)"
            ]
          },
          "metadata": {},
          "execution_count": 5
        }
      ]
    },
    {
      "cell_type": "markdown",
      "source": [
        "## Converting Class Vectors To Categorical Data"
      ],
      "metadata": {
        "id": "weSzAu5u88H1"
      }
    },
    {
      "cell_type": "code",
      "source": [
        "y_train = tf.keras.utils.to_categorical(y_train, 10)\n",
        "y_test = tf.keras.utils.to_categorical(y_test, 10)"
      ],
      "metadata": {
        "id": "oANUKyzF87Yp"
      },
      "execution_count": null,
      "outputs": []
    },
    {
      "cell_type": "markdown",
      "source": [
        "## Building The CNN Model"
      ],
      "metadata": {
        "id": "UsuAKA5K2xMw"
      }
    },
    {
      "cell_type": "markdown",
      "source": [
        "## Initialising The CNN Object"
      ],
      "metadata": {
        "id": "pd0c5Lgm3EXo"
      }
    },
    {
      "cell_type": "code",
      "source": [
        "cnn = tf.keras.models.Sequential()"
      ],
      "metadata": {
        "id": "Mfr0nNLC2kmV"
      },
      "execution_count": null,
      "outputs": []
    },
    {
      "cell_type": "markdown",
      "source": [
        "## Adding The Convolution Layer"
      ],
      "metadata": {
        "id": "VM7d4aWm3J0L"
      }
    },
    {
      "cell_type": "code",
      "source": [
        "cnn.add(tf.keras.layers.Conv2D(filters = 32, kernel_size = 3, activation = 'relu', input_shape =[28,28,1]))"
      ],
      "metadata": {
        "id": "As6t_g9x2-RV"
      },
      "execution_count": null,
      "outputs": []
    },
    {
      "cell_type": "markdown",
      "source": [
        "## Adding Pooling Layer"
      ],
      "metadata": {
        "id": "VO8Z6Gct39aH"
      }
    },
    {
      "cell_type": "code",
      "source": [
        "cnn.add(tf.keras.layers.MaxPool2D(strides = 2, pool_size = 2))"
      ],
      "metadata": {
        "id": "gTqMEglG35j1"
      },
      "execution_count": null,
      "outputs": []
    },
    {
      "cell_type": "markdown",
      "source": [
        "## Adding Second Convolution Layer"
      ],
      "metadata": {
        "id": "QaRnmt3D4Hyo"
      }
    },
    {
      "cell_type": "code",
      "source": [
        "cnn.add(tf.keras.layers.Conv2D(filters = 32, kernel_size = 3, activation = 'relu'))\n",
        "cnn.add(tf.keras.layers.MaxPool2D(strides = 2, pool_size = 2))"
      ],
      "metadata": {
        "id": "stLSm9M34EN8"
      },
      "execution_count": null,
      "outputs": []
    },
    {
      "cell_type": "markdown",
      "source": [
        "## Flattening"
      ],
      "metadata": {
        "id": "BpY4v3yq6bT_"
      }
    },
    {
      "cell_type": "code",
      "source": [
        "cnn.add(tf.keras.layers.Flatten())"
      ],
      "metadata": {
        "id": "cnyFRPNx4MdU"
      },
      "execution_count": null,
      "outputs": []
    },
    {
      "cell_type": "markdown",
      "source": [
        "## Full Connection"
      ],
      "metadata": {
        "id": "OwVUkSdc6jSn"
      }
    },
    {
      "cell_type": "code",
      "source": [
        "cnn.add(tf.keras.layers.Dense(units = 128, activation = 'relu'))"
      ],
      "metadata": {
        "id": "0GlXxEfo6d49"
      },
      "execution_count": null,
      "outputs": []
    },
    {
      "cell_type": "markdown",
      "source": [
        "## Output Layer"
      ],
      "metadata": {
        "id": "rrREzeqG602R"
      }
    },
    {
      "cell_type": "code",
      "source": [
        "cnn.add(tf.keras.layers.Dense(units = 10, activation = 'softmax'))"
      ],
      "metadata": {
        "id": "7TWKQJXh6xA6"
      },
      "execution_count": null,
      "outputs": []
    },
    {
      "cell_type": "markdown",
      "source": [
        "# Training The CNN"
      ],
      "metadata": {
        "id": "PHjcNgIN6-KQ"
      }
    },
    {
      "cell_type": "markdown",
      "source": [
        "## Compiling The CNN"
      ],
      "metadata": {
        "id": "dBauO88i7CPM"
      }
    },
    {
      "cell_type": "code",
      "source": [
        "cnn.compile(optimizer = 'adam', loss = 'categorical_crossentropy', metrics = ['accuracy'])"
      ],
      "metadata": {
        "id": "QGAvyGUE663g"
      },
      "execution_count": null,
      "outputs": []
    },
    {
      "cell_type": "markdown",
      "source": [
        "## Training CNN On Data And Validating Test Set"
      ],
      "metadata": {
        "id": "sWOwqXqF7jB4"
      }
    },
    {
      "cell_type": "code",
      "source": [
        "cnn.fit(X_train, y_train, validation_data = (X_test, y_test), batch_size = 12, epochs = 10)"
      ],
      "metadata": {
        "colab": {
          "base_uri": "https://localhost:8080/"
        },
        "id": "uGGaSH6T7dHe",
        "outputId": "d527f45b-f9bf-4530-d5bc-19738ddbab69"
      },
      "execution_count": null,
      "outputs": [
        {
          "metadata": {
            "tags": null
          },
          "name": "stdout",
          "output_type": "stream",
          "text": [
            "Epoch 1/10\n",
            "5000/5000 [==============================] - 64s 13ms/step - loss: 0.0328 - accuracy: 0.9949 - val_loss: 0.1685 - val_accuracy: 0.9860\n",
            "Epoch 2/10\n",
            "5000/5000 [==============================] - 64s 13ms/step - loss: 0.0315 - accuracy: 0.9953 - val_loss: 0.2018 - val_accuracy: 0.9852\n",
            "Epoch 3/10\n",
            "5000/5000 [==============================] - 64s 13ms/step - loss: 0.0322 - accuracy: 0.9954 - val_loss: 0.2071 - val_accuracy: 0.9882\n",
            "Epoch 4/10\n",
            "5000/5000 [==============================] - 63s 13ms/step - loss: 0.0366 - accuracy: 0.9959 - val_loss: 0.1535 - val_accuracy: 0.9869\n",
            "Epoch 5/10\n",
            "5000/5000 [==============================] - 59s 12ms/step - loss: 0.0322 - accuracy: 0.9960 - val_loss: 0.3269 - val_accuracy: 0.9811\n",
            "Epoch 6/10\n",
            "5000/5000 [==============================] - 60s 12ms/step - loss: 0.0350 - accuracy: 0.9960 - val_loss: 0.2553 - val_accuracy: 0.9864\n",
            "Epoch 7/10\n",
            "5000/5000 [==============================] - 61s 12ms/step - loss: 0.0303 - accuracy: 0.9962 - val_loss: 0.2582 - val_accuracy: 0.9823\n",
            "Epoch 8/10\n",
            "5000/5000 [==============================] - 61s 12ms/step - loss: 0.0388 - accuracy: 0.9956 - val_loss: 0.2197 - val_accuracy: 0.9861\n",
            "Epoch 9/10\n",
            "5000/5000 [==============================] - 61s 12ms/step - loss: 0.0382 - accuracy: 0.9964 - val_loss: 0.2413 - val_accuracy: 0.9874\n",
            "Epoch 10/10\n",
            "5000/5000 [==============================] - 61s 12ms/step - loss: 0.0337 - accuracy: 0.9964 - val_loss: 0.4384 - val_accuracy: 0.9836\n"
          ]
        },
        {
          "data": {
            "text/plain": [
              "<keras.callbacks.History at 0x7f8a5f005e50>"
            ]
          },
          "execution_count": null,
          "metadata": {},
          "output_type": "execute_result"
        }
      ]
    },
    {
      "cell_type": "code",
      "source": [
        ""
      ],
      "metadata": {
        "id": "A0ZMXCqGJWl1"
      },
      "execution_count": null,
      "outputs": []
    }
  ]
}