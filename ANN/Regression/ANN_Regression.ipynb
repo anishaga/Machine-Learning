{
 "cells": [
  {
   "cell_type": "markdown",
   "metadata": {
    "id": "lROywisuITM1"
   },
   "source": [
    "## Importing Relevant Libraries"
   ]
  },
  {
   "cell_type": "code",
   "execution_count": 1,
   "metadata": {
    "id": "nkxU5sE9IPej"
   },
   "outputs": [],
   "source": [
    "import numpy as np\n",
    "import pandas as pd\n",
    "import tensorflow as tf"
   ]
  },
  {
   "cell_type": "markdown",
   "metadata": {
    "id": "DeP_VSi3IfMS"
   },
   "source": [
    "## Importing DataSet"
   ]
  },
  {
   "cell_type": "code",
   "execution_count": 7,
   "metadata": {
    "id": "P17DEfILIdJ9"
   },
   "outputs": [],
   "source": [
    "dataset = pd.read_excel('https://github.com/anishaga/Machine-Learning/blob/main/ANN/Folds5x2_pp.xlsx?raw=true')\n",
    "X = dataset.iloc[:,:-1].values\n",
    "y = dataset.iloc[:, -1].values"
   ]
  },
  {
   "cell_type": "markdown",
   "metadata": {
    "id": "mO1j4jdNJUz8"
   },
   "source": [
    "## Splitting DataSet Into Training And Testing "
   ]
  },
  {
   "cell_type": "code",
   "execution_count": 8,
   "metadata": {
    "id": "sdfjsin6IeYd"
   },
   "outputs": [],
   "source": [
    "from sklearn.model_selection import train_test_split\n",
    "X_train, X_test, y_train, y_test = train_test_split(X,y,test_size = 0.2, random_state = 0)"
   ]
  },
  {
   "cell_type": "markdown",
   "metadata": {
    "id": "DrznVvT9JpCW"
   },
   "source": [
    "# Building The ANN"
   ]
  },
  {
   "cell_type": "markdown",
   "metadata": {
    "id": "bS4ri-BAJsqs"
   },
   "source": [
    "## Initialising The ANN"
   ]
  },
  {
   "cell_type": "code",
   "execution_count": 10,
   "metadata": {
    "id": "uCu0fpCVJjnX"
   },
   "outputs": [],
   "source": [
    "ann = tf.keras.models.Sequential()"
   ]
  },
  {
   "cell_type": "markdown",
   "metadata": {
    "id": "43VlF-y8J0v3"
   },
   "source": [
    "## Adding The First Input Layer And Hidden Layer"
   ]
  },
  {
   "cell_type": "code",
   "execution_count": 11,
   "metadata": {
    "id": "sJmxPzuEJoA5"
   },
   "outputs": [],
   "source": [
    "ann.add(tf.keras.layers.Dense(units = 6, activation = 'relu'))"
   ]
  },
  {
   "cell_type": "markdown",
   "metadata": {
    "id": "VscQDGe9KDsm"
   },
   "source": [
    "## Adding The Second Hidden Layer"
   ]
  },
  {
   "cell_type": "code",
   "execution_count": 12,
   "metadata": {
    "id": "VYm7scodJ_K2"
   },
   "outputs": [],
   "source": [
    "ann.add(tf.keras.layers.Dense(units = 6, activation = 'relu'))"
   ]
  },
  {
   "cell_type": "markdown",
   "metadata": {
    "id": "tHn4_n9qKVZZ"
   },
   "source": [
    "## Adding The Output Layer"
   ]
  },
  {
   "cell_type": "code",
   "execution_count": 13,
   "metadata": {
    "id": "d2lGxNtNKFKO"
   },
   "outputs": [],
   "source": [
    "ann.add(tf.keras.layers.Dense(units = 1))"
   ]
  },
  {
   "cell_type": "markdown",
   "metadata": {
    "id": "AuLo62EuKfF-"
   },
   "source": [
    "# Training The ANN"
   ]
  },
  {
   "cell_type": "markdown",
   "metadata": {
    "id": "icYI97tpKiiy"
   },
   "source": [
    "## Compiling The ANN"
   ]
  },
  {
   "cell_type": "code",
   "execution_count": 14,
   "metadata": {
    "id": "qygMkcryKZ8f"
   },
   "outputs": [],
   "source": [
    "ann.compile(optimizer = 'adam', loss = 'mean_squared_error')"
   ]
  },
  {
   "cell_type": "markdown",
   "metadata": {
    "id": "ytKVqKVfKzv8"
   },
   "source": [
    "## Training The ANN Model on Training Set"
   ]
  },
  {
   "cell_type": "code",
   "execution_count": 15,
   "metadata": {
    "colab": {
     "base_uri": "https://localhost:8080/"
    },
    "id": "OSDF5OMFKuq4",
    "outputId": "9e0b016e-8840-44f7-a7cc-17dfedf5481d"
   },
   "outputs": [
    {
     "name": "stdout",
     "output_type": "stream",
     "text": [
      "Epoch 1/100\n",
      "240/240 [==============================] - 1s 1ms/step - loss: 29470.3867\n",
      "Epoch 2/100\n",
      "240/240 [==============================] - 0s 1ms/step - loss: 390.6451\n",
      "Epoch 3/100\n",
      "240/240 [==============================] - 1s 2ms/step - loss: 378.4585\n",
      "Epoch 4/100\n",
      "240/240 [==============================] - 0s 1ms/step - loss: 363.6279\n",
      "Epoch 5/100\n",
      "240/240 [==============================] - 0s 1ms/step - loss: 345.1402\n",
      "Epoch 6/100\n",
      "240/240 [==============================] - 0s 1ms/step - loss: 325.2838\n",
      "Epoch 7/100\n",
      "240/240 [==============================] - 0s 1ms/step - loss: 303.7107\n",
      "Epoch 8/100\n",
      "240/240 [==============================] - 0s 1ms/step - loss: 280.7335\n",
      "Epoch 9/100\n",
      "240/240 [==============================] - 0s 1ms/step - loss: 256.7057\n",
      "Epoch 10/100\n",
      "240/240 [==============================] - 0s 1ms/step - loss: 232.6462\n",
      "Epoch 11/100\n",
      "240/240 [==============================] - 0s 1ms/step - loss: 208.3724\n",
      "Epoch 12/100\n",
      "240/240 [==============================] - 0s 1ms/step - loss: 185.5164\n",
      "Epoch 13/100\n",
      "240/240 [==============================] - 0s 1ms/step - loss: 161.7660\n",
      "Epoch 14/100\n",
      "240/240 [==============================] - 0s 1ms/step - loss: 140.7099\n",
      "Epoch 15/100\n",
      "240/240 [==============================] - 0s 1ms/step - loss: 121.3113\n",
      "Epoch 16/100\n",
      "240/240 [==============================] - 0s 1ms/step - loss: 103.6667\n",
      "Epoch 17/100\n",
      "240/240 [==============================] - 0s 1ms/step - loss: 88.4370\n",
      "Epoch 18/100\n",
      "240/240 [==============================] - 0s 1ms/step - loss: 75.7792\n",
      "Epoch 19/100\n",
      "240/240 [==============================] - 0s 1ms/step - loss: 65.6081\n",
      "Epoch 20/100\n",
      "240/240 [==============================] - 0s 1ms/step - loss: 56.9134\n",
      "Epoch 21/100\n",
      "240/240 [==============================] - 0s 1ms/step - loss: 50.2650\n",
      "Epoch 22/100\n",
      "240/240 [==============================] - 0s 2ms/step - loss: 45.4055\n",
      "Epoch 23/100\n",
      "240/240 [==============================] - 0s 2ms/step - loss: 41.5876\n",
      "Epoch 24/100\n",
      "240/240 [==============================] - 0s 2ms/step - loss: 38.2400\n",
      "Epoch 25/100\n",
      "240/240 [==============================] - 0s 2ms/step - loss: 35.7757\n",
      "Epoch 26/100\n",
      "240/240 [==============================] - 0s 2ms/step - loss: 34.2649\n",
      "Epoch 27/100\n",
      "240/240 [==============================] - 0s 2ms/step - loss: 32.8092\n",
      "Epoch 28/100\n",
      "240/240 [==============================] - 0s 2ms/step - loss: 31.4264\n",
      "Epoch 29/100\n",
      "240/240 [==============================] - 0s 2ms/step - loss: 30.7204\n",
      "Epoch 30/100\n",
      "240/240 [==============================] - 0s 2ms/step - loss: 29.8886\n",
      "Epoch 31/100\n",
      "240/240 [==============================] - 0s 2ms/step - loss: 29.4784\n",
      "Epoch 32/100\n",
      "240/240 [==============================] - 0s 2ms/step - loss: 29.1684\n",
      "Epoch 33/100\n",
      "240/240 [==============================] - 0s 2ms/step - loss: 28.9838\n",
      "Epoch 34/100\n",
      "240/240 [==============================] - 0s 2ms/step - loss: 28.8771\n",
      "Epoch 35/100\n",
      "240/240 [==============================] - 0s 2ms/step - loss: 28.4423\n",
      "Epoch 36/100\n",
      "240/240 [==============================] - 0s 2ms/step - loss: 29.0493\n",
      "Epoch 37/100\n",
      "240/240 [==============================] - 0s 2ms/step - loss: 28.3833\n",
      "Epoch 38/100\n",
      "240/240 [==============================] - 0s 2ms/step - loss: 28.0386\n",
      "Epoch 39/100\n",
      "240/240 [==============================] - 1s 2ms/step - loss: 27.5606\n",
      "Epoch 40/100\n",
      "240/240 [==============================] - 0s 2ms/step - loss: 28.0355\n",
      "Epoch 41/100\n",
      "240/240 [==============================] - 0s 2ms/step - loss: 27.8657\n",
      "Epoch 42/100\n",
      "240/240 [==============================] - 0s 1ms/step - loss: 28.2639\n",
      "Epoch 43/100\n",
      "240/240 [==============================] - 0s 1ms/step - loss: 27.0769\n",
      "Epoch 44/100\n",
      "240/240 [==============================] - 0s 1ms/step - loss: 27.3770\n",
      "Epoch 45/100\n",
      "240/240 [==============================] - 0s 1ms/step - loss: 28.0868\n",
      "Epoch 46/100\n",
      "240/240 [==============================] - 0s 1ms/step - loss: 27.2638\n",
      "Epoch 47/100\n",
      "240/240 [==============================] - 0s 2ms/step - loss: 27.3611\n",
      "Epoch 48/100\n",
      "240/240 [==============================] - 0s 1ms/step - loss: 27.3342\n",
      "Epoch 49/100\n",
      "240/240 [==============================] - 0s 2ms/step - loss: 27.5564\n",
      "Epoch 50/100\n",
      "240/240 [==============================] - 0s 1ms/step - loss: 27.9668\n",
      "Epoch 51/100\n",
      "240/240 [==============================] - 0s 1ms/step - loss: 27.0441\n",
      "Epoch 52/100\n",
      "240/240 [==============================] - 0s 1ms/step - loss: 27.5850\n",
      "Epoch 53/100\n",
      "240/240 [==============================] - 0s 1ms/step - loss: 26.6660\n",
      "Epoch 54/100\n",
      "240/240 [==============================] - 0s 2ms/step - loss: 26.8752\n",
      "Epoch 55/100\n",
      "240/240 [==============================] - 0s 2ms/step - loss: 27.0379\n",
      "Epoch 56/100\n",
      "240/240 [==============================] - 0s 1ms/step - loss: 27.1796\n",
      "Epoch 57/100\n",
      "240/240 [==============================] - 0s 1ms/step - loss: 27.2269\n",
      "Epoch 58/100\n",
      "240/240 [==============================] - 0s 1ms/step - loss: 26.8992\n",
      "Epoch 59/100\n",
      "240/240 [==============================] - 0s 1ms/step - loss: 27.4027\n",
      "Epoch 60/100\n",
      "240/240 [==============================] - 0s 1ms/step - loss: 26.9419\n",
      "Epoch 61/100\n",
      "240/240 [==============================] - 0s 1ms/step - loss: 27.3329\n",
      "Epoch 62/100\n",
      "240/240 [==============================] - 0s 1ms/step - loss: 26.9446\n",
      "Epoch 63/100\n",
      "240/240 [==============================] - 0s 1ms/step - loss: 26.7836\n",
      "Epoch 64/100\n",
      "240/240 [==============================] - 0s 1ms/step - loss: 27.1104\n",
      "Epoch 65/100\n",
      "240/240 [==============================] - 0s 1ms/step - loss: 26.6487\n",
      "Epoch 66/100\n",
      "240/240 [==============================] - 0s 1ms/step - loss: 27.1845\n",
      "Epoch 67/100\n",
      "240/240 [==============================] - 0s 1ms/step - loss: 27.3257\n",
      "Epoch 68/100\n",
      "240/240 [==============================] - 0s 1ms/step - loss: 27.0998\n",
      "Epoch 69/100\n",
      "240/240 [==============================] - 0s 1ms/step - loss: 27.2302\n",
      "Epoch 70/100\n",
      "240/240 [==============================] - 0s 1ms/step - loss: 26.5336\n",
      "Epoch 71/100\n",
      "240/240 [==============================] - 0s 1ms/step - loss: 27.6736\n",
      "Epoch 72/100\n",
      "240/240 [==============================] - 0s 1ms/step - loss: 26.7911\n",
      "Epoch 73/100\n",
      "240/240 [==============================] - 0s 1ms/step - loss: 26.9542\n",
      "Epoch 74/100\n",
      "240/240 [==============================] - 0s 1ms/step - loss: 27.1967\n",
      "Epoch 75/100\n",
      "240/240 [==============================] - 0s 1ms/step - loss: 26.9118\n",
      "Epoch 76/100\n",
      "240/240 [==============================] - 0s 2ms/step - loss: 27.3534\n",
      "Epoch 77/100\n",
      "240/240 [==============================] - 0s 2ms/step - loss: 26.8490\n",
      "Epoch 78/100\n",
      "240/240 [==============================] - 0s 2ms/step - loss: 26.5342\n",
      "Epoch 79/100\n",
      "240/240 [==============================] - 0s 2ms/step - loss: 26.5534\n",
      "Epoch 80/100\n",
      "240/240 [==============================] - 0s 2ms/step - loss: 27.2563\n",
      "Epoch 81/100\n",
      "240/240 [==============================] - 0s 2ms/step - loss: 27.2897\n",
      "Epoch 82/100\n",
      "240/240 [==============================] - 0s 2ms/step - loss: 26.9624\n",
      "Epoch 83/100\n",
      "240/240 [==============================] - 0s 2ms/step - loss: 26.6981\n",
      "Epoch 84/100\n",
      "240/240 [==============================] - 0s 2ms/step - loss: 27.6968\n",
      "Epoch 85/100\n",
      "240/240 [==============================] - 0s 2ms/step - loss: 27.1155\n",
      "Epoch 86/100\n",
      "240/240 [==============================] - 0s 2ms/step - loss: 26.9272\n",
      "Epoch 87/100\n",
      "240/240 [==============================] - 0s 2ms/step - loss: 26.8257\n",
      "Epoch 88/100\n",
      "240/240 [==============================] - 0s 1ms/step - loss: 27.1097\n",
      "Epoch 89/100\n",
      "240/240 [==============================] - 0s 1ms/step - loss: 27.0319\n",
      "Epoch 90/100\n",
      "240/240 [==============================] - 0s 1ms/step - loss: 27.8977\n",
      "Epoch 91/100\n",
      "240/240 [==============================] - 0s 1ms/step - loss: 27.0950\n",
      "Epoch 92/100\n",
      "240/240 [==============================] - 0s 1ms/step - loss: 26.8881\n",
      "Epoch 93/100\n",
      "240/240 [==============================] - 0s 1ms/step - loss: 26.4748\n",
      "Epoch 94/100\n",
      "240/240 [==============================] - 0s 1ms/step - loss: 26.5809\n",
      "Epoch 95/100\n",
      "240/240 [==============================] - 0s 1ms/step - loss: 26.9114\n",
      "Epoch 96/100\n",
      "240/240 [==============================] - 0s 1ms/step - loss: 27.0133\n",
      "Epoch 97/100\n",
      "240/240 [==============================] - 0s 1ms/step - loss: 27.1392\n",
      "Epoch 98/100\n",
      "240/240 [==============================] - 0s 1ms/step - loss: 27.5120\n",
      "Epoch 99/100\n",
      "240/240 [==============================] - 0s 1ms/step - loss: 27.0964\n",
      "Epoch 100/100\n",
      "240/240 [==============================] - 0s 1ms/step - loss: 27.0538\n"
     ]
    },
    {
     "data": {
      "text/plain": [
       "<keras.callbacks.History at 0x7f9e41b35b50>"
      ]
     },
     "execution_count": 15,
     "metadata": {},
     "output_type": "execute_result"
    }
   ],
   "source": [
    "ann.fit(X_train, y_train, batch_size = 32, epochs = 100)"
   ]
  },
  {
   "cell_type": "markdown",
   "metadata": {
    "id": "Hwwh2suGLArk"
   },
   "source": [
    "## Predicting The Test Set Results"
   ]
  },
  {
   "cell_type": "code",
   "execution_count": 16,
   "metadata": {
    "id": "tMQ-lZVbK7eW"
   },
   "outputs": [],
   "source": [
    "y_pred = ann.predict(X_test)"
   ]
  },
  {
   "cell_type": "markdown",
   "metadata": {
    "id": "I-SEk0RmLLv_"
   },
   "source": [
    "## Checking r2_score"
   ]
  },
  {
   "cell_type": "code",
   "execution_count": 17,
   "metadata": {
    "colab": {
     "base_uri": "https://localhost:8080/"
    },
    "id": "JnjexbVRLIcA",
    "outputId": "fae0208d-358b-4842-ad59-b49b8b452bd6"
   },
   "outputs": [
    {
     "data": {
      "text/plain": [
       "0.9038925816703494"
      ]
     },
     "execution_count": 17,
     "metadata": {},
     "output_type": "execute_result"
    }
   ],
   "source": [
    "from sklearn.metrics import r2_score\n",
    "r2_score(y_test, y_pred)"
   ]
  },
  {
   "cell_type": "code",
   "execution_count": null,
   "metadata": {
    "id": "7V1qWP_mLQPG"
   },
   "outputs": [],
   "source": []
  }
 ],
 "metadata": {
  "colab": {
   "collapsed_sections": [],
   "name": "ANN_Regression.ipynb",
   "provenance": []
  },
  "kernelspec": {
   "display_name": "Python 3 (ipykernel)",
   "language": "python",
   "name": "python3"
  },
  "language_info": {
   "codemirror_mode": {
    "name": "ipython",
    "version": 3
   },
   "file_extension": ".py",
   "mimetype": "text/x-python",
   "name": "python",
   "nbconvert_exporter": "python",
   "pygments_lexer": "ipython3",
   "version": "3.9.7"
  }
 },
 "nbformat": 4,
 "nbformat_minor": 1
}
