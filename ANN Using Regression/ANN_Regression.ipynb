{
  "cells": [
    {
      "cell_type": "markdown",
      "metadata": {
        "id": "lROywisuITM1"
      },
      "source": [
        "## Importing Relevant Libraries"
      ]
    },
    {
      "cell_type": "code",
      "execution_count": 1,
      "metadata": {
        "id": "nkxU5sE9IPej"
      },
      "outputs": [],
      "source": [
        "import numpy as np\n",
        "import pandas as pd\n",
        "import tensorflow as tf"
      ]
    },
    {
      "cell_type": "markdown",
      "metadata": {
        "id": "DeP_VSi3IfMS"
      },
      "source": [
        "## Importing DataSet"
      ]
    },
    {
      "cell_type": "code",
      "execution_count": 2,
      "metadata": {
        "id": "P17DEfILIdJ9"
      },
      "outputs": [],
      "source": [
        "dataset = pd.read_excel('https://github.com/anishaga/Machine-Learning/blob/main/ANN%20Using%20Regression/Folds5x2_pp.xlsx?raw=true')\n",
        "X = dataset.iloc[:,:-1].values\n",
        "y = dataset.iloc[:, -1].values"
      ]
    },
    {
      "cell_type": "markdown",
      "metadata": {
        "id": "mO1j4jdNJUz8"
      },
      "source": [
        "## Splitting DataSet Into Training And Testing "
      ]
    },
    {
      "cell_type": "code",
      "execution_count": 3,
      "metadata": {
        "id": "sdfjsin6IeYd"
      },
      "outputs": [],
      "source": [
        "from sklearn.model_selection import train_test_split\n",
        "X_train, X_test, y_train, y_test = train_test_split(X,y,test_size = 0.2, random_state = 0)"
      ]
    },
    {
      "cell_type": "markdown",
      "metadata": {
        "id": "DrznVvT9JpCW"
      },
      "source": [
        "# Building The ANN"
      ]
    },
    {
      "cell_type": "markdown",
      "metadata": {
        "id": "bS4ri-BAJsqs"
      },
      "source": [
        "## Initialising The ANN"
      ]
    },
    {
      "cell_type": "code",
      "execution_count": 4,
      "metadata": {
        "id": "uCu0fpCVJjnX"
      },
      "outputs": [],
      "source": [
        "ann = tf.keras.models.Sequential()"
      ]
    },
    {
      "cell_type": "markdown",
      "metadata": {
        "id": "43VlF-y8J0v3"
      },
      "source": [
        "## Adding The First Input Layer And Hidden Layer"
      ]
    },
    {
      "cell_type": "code",
      "execution_count": 5,
      "metadata": {
        "id": "sJmxPzuEJoA5"
      },
      "outputs": [],
      "source": [
        "ann.add(tf.keras.layers.Dense(units = 6, activation = 'relu'))"
      ]
    },
    {
      "cell_type": "markdown",
      "metadata": {
        "id": "VscQDGe9KDsm"
      },
      "source": [
        "## Adding The Second Hidden Layer"
      ]
    },
    {
      "cell_type": "code",
      "execution_count": 6,
      "metadata": {
        "id": "VYm7scodJ_K2"
      },
      "outputs": [],
      "source": [
        "ann.add(tf.keras.layers.Dense(units = 6, activation = 'relu'))"
      ]
    },
    {
      "cell_type": "markdown",
      "metadata": {
        "id": "tHn4_n9qKVZZ"
      },
      "source": [
        "## Adding The Output Layer"
      ]
    },
    {
      "cell_type": "code",
      "execution_count": 7,
      "metadata": {
        "id": "d2lGxNtNKFKO"
      },
      "outputs": [],
      "source": [
        "ann.add(tf.keras.layers.Dense(units = 1))"
      ]
    },
    {
      "cell_type": "markdown",
      "metadata": {
        "id": "AuLo62EuKfF-"
      },
      "source": [
        "# Training The ANN"
      ]
    },
    {
      "cell_type": "markdown",
      "metadata": {
        "id": "icYI97tpKiiy"
      },
      "source": [
        "## Compiling The ANN"
      ]
    },
    {
      "cell_type": "code",
      "execution_count": 8,
      "metadata": {
        "id": "qygMkcryKZ8f"
      },
      "outputs": [],
      "source": [
        "ann.compile(optimizer = 'adam', loss = 'mean_squared_error')"
      ]
    },
    {
      "cell_type": "markdown",
      "metadata": {
        "id": "ytKVqKVfKzv8"
      },
      "source": [
        "## Training The ANN Model on Training Set"
      ]
    },
    {
      "cell_type": "code",
      "execution_count": 9,
      "metadata": {
        "colab": {
          "base_uri": "https://localhost:8080/"
        },
        "id": "OSDF5OMFKuq4",
        "outputId": "671f68fa-cbb4-4f8e-c63e-d2d32263dfc0"
      },
      "outputs": [
        {
          "output_type": "stream",
          "name": "stdout",
          "text": [
            "Epoch 1/100\n",
            "240/240 [==============================] - 1s 1ms/step - loss: 245955.9531\n",
            "Epoch 2/100\n",
            "240/240 [==============================] - 0s 1ms/step - loss: 1529.0197\n",
            "Epoch 3/100\n",
            "240/240 [==============================] - 0s 1ms/step - loss: 1445.7732\n",
            "Epoch 4/100\n",
            "240/240 [==============================] - 0s 955us/step - loss: 1347.7784\n",
            "Epoch 5/100\n",
            "240/240 [==============================] - 0s 1ms/step - loss: 1241.1671\n",
            "Epoch 6/100\n",
            "240/240 [==============================] - 0s 985us/step - loss: 1130.5417\n",
            "Epoch 7/100\n",
            "240/240 [==============================] - 0s 1ms/step - loss: 1017.1653\n",
            "Epoch 8/100\n",
            "240/240 [==============================] - 0s 1ms/step - loss: 907.3757\n",
            "Epoch 9/100\n",
            "240/240 [==============================] - 0s 2ms/step - loss: 801.9551\n",
            "Epoch 10/100\n",
            "240/240 [==============================] - 0s 2ms/step - loss: 697.2316\n",
            "Epoch 11/100\n",
            "240/240 [==============================] - 1s 2ms/step - loss: 602.3711\n",
            "Epoch 12/100\n",
            "240/240 [==============================] - 0s 2ms/step - loss: 512.3265\n",
            "Epoch 13/100\n",
            "240/240 [==============================] - 0s 2ms/step - loss: 430.3683\n",
            "Epoch 14/100\n",
            "240/240 [==============================] - 0s 2ms/step - loss: 357.2971\n",
            "Epoch 15/100\n",
            "240/240 [==============================] - 0s 2ms/step - loss: 290.3939\n",
            "Epoch 16/100\n",
            "240/240 [==============================] - 0s 2ms/step - loss: 233.0374\n",
            "Epoch 17/100\n",
            "240/240 [==============================] - 0s 2ms/step - loss: 185.2068\n",
            "Epoch 18/100\n",
            "240/240 [==============================] - 1s 3ms/step - loss: 144.9886\n",
            "Epoch 19/100\n",
            "240/240 [==============================] - 1s 2ms/step - loss: 113.4465\n",
            "Epoch 20/100\n",
            "240/240 [==============================] - 0s 2ms/step - loss: 90.3379\n",
            "Epoch 21/100\n",
            "240/240 [==============================] - 0s 2ms/step - loss: 73.1069\n",
            "Epoch 22/100\n",
            "240/240 [==============================] - 1s 3ms/step - loss: 62.4383\n",
            "Epoch 23/100\n",
            "240/240 [==============================] - 1s 3ms/step - loss: 54.1581\n",
            "Epoch 24/100\n",
            "240/240 [==============================] - 1s 3ms/step - loss: 49.0597\n",
            "Epoch 25/100\n",
            "240/240 [==============================] - 1s 2ms/step - loss: 45.8691\n",
            "Epoch 26/100\n",
            "240/240 [==============================] - 0s 2ms/step - loss: 43.1929\n",
            "Epoch 27/100\n",
            "240/240 [==============================] - 0s 922us/step - loss: 41.5158\n",
            "Epoch 28/100\n",
            "240/240 [==============================] - 0s 998us/step - loss: 40.1860\n",
            "Epoch 29/100\n",
            "240/240 [==============================] - 0s 980us/step - loss: 38.5969\n",
            "Epoch 30/100\n",
            "240/240 [==============================] - 0s 985us/step - loss: 37.6108\n",
            "Epoch 31/100\n",
            "240/240 [==============================] - 0s 958us/step - loss: 36.0086\n",
            "Epoch 32/100\n",
            "240/240 [==============================] - 0s 953us/step - loss: 35.2661\n",
            "Epoch 33/100\n",
            "240/240 [==============================] - 0s 991us/step - loss: 34.5747\n",
            "Epoch 34/100\n",
            "240/240 [==============================] - 0s 968us/step - loss: 33.2830\n",
            "Epoch 35/100\n",
            "240/240 [==============================] - 0s 969us/step - loss: 32.4703\n",
            "Epoch 36/100\n",
            "240/240 [==============================] - 0s 1ms/step - loss: 33.3064\n",
            "Epoch 37/100\n",
            "240/240 [==============================] - 0s 1ms/step - loss: 31.5334\n",
            "Epoch 38/100\n",
            "240/240 [==============================] - 0s 1ms/step - loss: 30.2385\n",
            "Epoch 39/100\n",
            "240/240 [==============================] - 0s 1ms/step - loss: 30.6603\n",
            "Epoch 40/100\n",
            "240/240 [==============================] - 0s 918us/step - loss: 29.7913\n",
            "Epoch 41/100\n",
            "240/240 [==============================] - 0s 998us/step - loss: 29.2181\n",
            "Epoch 42/100\n",
            "240/240 [==============================] - 0s 904us/step - loss: 28.9085\n",
            "Epoch 43/100\n",
            "240/240 [==============================] - 0s 931us/step - loss: 28.3879\n",
            "Epoch 44/100\n",
            "240/240 [==============================] - 0s 1ms/step - loss: 28.4700\n",
            "Epoch 45/100\n",
            "240/240 [==============================] - 0s 992us/step - loss: 28.0491\n",
            "Epoch 46/100\n",
            "240/240 [==============================] - 0s 977us/step - loss: 28.3193\n",
            "Epoch 47/100\n",
            "240/240 [==============================] - 0s 908us/step - loss: 28.4176\n",
            "Epoch 48/100\n",
            "240/240 [==============================] - 0s 928us/step - loss: 28.0680\n",
            "Epoch 49/100\n",
            "240/240 [==============================] - 0s 941us/step - loss: 27.3783\n",
            "Epoch 50/100\n",
            "240/240 [==============================] - 0s 1ms/step - loss: 28.0484\n",
            "Epoch 51/100\n",
            "240/240 [==============================] - 0s 975us/step - loss: 27.5859\n",
            "Epoch 52/100\n",
            "240/240 [==============================] - 0s 933us/step - loss: 26.8487\n",
            "Epoch 53/100\n",
            "240/240 [==============================] - 0s 1ms/step - loss: 27.2720\n",
            "Epoch 54/100\n",
            "240/240 [==============================] - 0s 1ms/step - loss: 27.6102\n",
            "Epoch 55/100\n",
            "240/240 [==============================] - 0s 984us/step - loss: 27.1923\n",
            "Epoch 56/100\n",
            "240/240 [==============================] - 0s 969us/step - loss: 28.0867\n",
            "Epoch 57/100\n",
            "240/240 [==============================] - 0s 1ms/step - loss: 27.1673\n",
            "Epoch 58/100\n",
            "240/240 [==============================] - 0s 983us/step - loss: 26.8292\n",
            "Epoch 59/100\n",
            "240/240 [==============================] - 0s 1ms/step - loss: 29.1952\n",
            "Epoch 60/100\n",
            "240/240 [==============================] - 0s 977us/step - loss: 27.2725\n",
            "Epoch 61/100\n",
            "240/240 [==============================] - 0s 1ms/step - loss: 26.7418\n",
            "Epoch 62/100\n",
            "240/240 [==============================] - 0s 1ms/step - loss: 27.2002\n",
            "Epoch 63/100\n",
            "240/240 [==============================] - 0s 1ms/step - loss: 27.2101\n",
            "Epoch 64/100\n",
            "240/240 [==============================] - 0s 975us/step - loss: 28.9034\n",
            "Epoch 65/100\n",
            "240/240 [==============================] - 0s 971us/step - loss: 27.5518\n",
            "Epoch 66/100\n",
            "240/240 [==============================] - 0s 1ms/step - loss: 27.4294\n",
            "Epoch 67/100\n",
            "240/240 [==============================] - 0s 953us/step - loss: 27.7657\n",
            "Epoch 68/100\n",
            "240/240 [==============================] - 0s 942us/step - loss: 27.6894\n",
            "Epoch 69/100\n",
            "240/240 [==============================] - 0s 989us/step - loss: 26.8915\n",
            "Epoch 70/100\n",
            "240/240 [==============================] - 0s 995us/step - loss: 28.1386\n",
            "Epoch 71/100\n",
            "240/240 [==============================] - 0s 1ms/step - loss: 26.9006\n",
            "Epoch 72/100\n",
            "240/240 [==============================] - 0s 969us/step - loss: 26.8872\n",
            "Epoch 73/100\n",
            "240/240 [==============================] - 0s 933us/step - loss: 27.4380\n",
            "Epoch 74/100\n",
            "240/240 [==============================] - 0s 1ms/step - loss: 27.2990\n",
            "Epoch 75/100\n",
            "240/240 [==============================] - 0s 977us/step - loss: 27.0964\n",
            "Epoch 76/100\n",
            "240/240 [==============================] - 0s 933us/step - loss: 26.7133\n",
            "Epoch 77/100\n",
            "240/240 [==============================] - 0s 957us/step - loss: 27.5678\n",
            "Epoch 78/100\n",
            "240/240 [==============================] - 0s 956us/step - loss: 26.8811\n",
            "Epoch 79/100\n",
            "240/240 [==============================] - 0s 1ms/step - loss: 27.4106\n",
            "Epoch 80/100\n",
            "240/240 [==============================] - 0s 970us/step - loss: 27.1693\n",
            "Epoch 81/100\n",
            "240/240 [==============================] - 0s 960us/step - loss: 27.7691\n",
            "Epoch 82/100\n",
            "240/240 [==============================] - 0s 940us/step - loss: 27.0657\n",
            "Epoch 83/100\n",
            "240/240 [==============================] - 0s 1ms/step - loss: 27.4056\n",
            "Epoch 84/100\n",
            "240/240 [==============================] - 0s 1ms/step - loss: 27.4082\n",
            "Epoch 85/100\n",
            "240/240 [==============================] - 0s 1ms/step - loss: 27.0428\n",
            "Epoch 86/100\n",
            "240/240 [==============================] - 0s 1ms/step - loss: 27.2526\n",
            "Epoch 87/100\n",
            "240/240 [==============================] - 0s 996us/step - loss: 27.3038\n",
            "Epoch 88/100\n",
            "240/240 [==============================] - 0s 1ms/step - loss: 27.0221\n",
            "Epoch 89/100\n",
            "240/240 [==============================] - 0s 978us/step - loss: 27.4980\n",
            "Epoch 90/100\n",
            "240/240 [==============================] - 0s 970us/step - loss: 27.9211\n",
            "Epoch 91/100\n",
            "240/240 [==============================] - 0s 988us/step - loss: 27.4093\n",
            "Epoch 92/100\n",
            "240/240 [==============================] - 0s 960us/step - loss: 27.2272\n",
            "Epoch 93/100\n",
            "240/240 [==============================] - 0s 951us/step - loss: 27.3595\n",
            "Epoch 94/100\n",
            "240/240 [==============================] - 0s 967us/step - loss: 27.4096\n",
            "Epoch 95/100\n",
            "240/240 [==============================] - 0s 980us/step - loss: 27.3794\n",
            "Epoch 96/100\n",
            "240/240 [==============================] - 0s 994us/step - loss: 27.2149\n",
            "Epoch 97/100\n",
            "240/240 [==============================] - 0s 955us/step - loss: 27.3428\n",
            "Epoch 98/100\n",
            "240/240 [==============================] - 0s 956us/step - loss: 27.9844\n",
            "Epoch 99/100\n",
            "240/240 [==============================] - 0s 960us/step - loss: 27.2942\n",
            "Epoch 100/100\n",
            "240/240 [==============================] - 0s 1ms/step - loss: 26.9228\n"
          ]
        },
        {
          "output_type": "execute_result",
          "data": {
            "text/plain": [
              "<keras.callbacks.History at 0x7f849dadb790>"
            ]
          },
          "metadata": {},
          "execution_count": 9
        }
      ],
      "source": [
        "ann.fit(X_train, y_train, batch_size = 32, epochs = 100)"
      ]
    },
    {
      "cell_type": "markdown",
      "metadata": {
        "id": "Hwwh2suGLArk"
      },
      "source": [
        "## Predicting The Test Set Results"
      ]
    },
    {
      "cell_type": "code",
      "execution_count": 10,
      "metadata": {
        "id": "tMQ-lZVbK7eW"
      },
      "outputs": [],
      "source": [
        "y_pred = ann.predict(X_test)"
      ]
    },
    {
      "cell_type": "markdown",
      "metadata": {
        "id": "I-SEk0RmLLv_"
      },
      "source": [
        "## Checking r2_score"
      ]
    },
    {
      "cell_type": "code",
      "execution_count": 11,
      "metadata": {
        "colab": {
          "base_uri": "https://localhost:8080/"
        },
        "id": "JnjexbVRLIcA",
        "outputId": "d19219d6-cfa5-4216-f58e-d2d5da00208c"
      },
      "outputs": [
        {
          "output_type": "execute_result",
          "data": {
            "text/plain": [
              "0.9129309476294303"
            ]
          },
          "metadata": {},
          "execution_count": 11
        }
      ],
      "source": [
        "from sklearn.metrics import r2_score\n",
        "r2_score(y_test, y_pred)"
      ]
    }
  ],
  "metadata": {
    "colab": {
      "collapsed_sections": [],
      "name": "ANN_Regression.ipynb",
      "provenance": []
    },
    "kernelspec": {
      "display_name": "Python 3 (ipykernel)",
      "language": "python",
      "name": "python3"
    },
    "language_info": {
      "codemirror_mode": {
        "name": "ipython",
        "version": 3
      },
      "file_extension": ".py",
      "mimetype": "text/x-python",
      "name": "python",
      "nbconvert_exporter": "python",
      "pygments_lexer": "ipython3",
      "version": "3.9.7"
    }
  },
  "nbformat": 4,
  "nbformat_minor": 0
}