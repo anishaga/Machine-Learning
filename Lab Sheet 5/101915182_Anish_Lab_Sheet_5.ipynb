{
 "cells": [
  {
   "cell_type": "markdown",
   "id": "b5cdbbbb",
   "metadata": {},
   "source": [
    "# ML Lab Sheet - 5 📑"
   ]
  },
  {
   "cell_type": "markdown",
   "id": "ff8ec210",
   "metadata": {},
   "source": [
    "### Name: Anish Agarwal\n",
    "### Batch: 3NC8\n",
    "### Roll No: 101915182"
   ]
  },
  {
   "cell_type": "markdown",
   "id": "f426ae85",
   "metadata": {},
   "source": [
    "## Importing Relevant Libraries"
   ]
  },
  {
   "cell_type": "code",
   "execution_count": 1,
   "id": "71f65699",
   "metadata": {},
   "outputs": [],
   "source": [
    "import numpy as np\n",
    "import pandas as pd\n",
    "import matplotlib.pyplot as plt"
   ]
  },
  {
   "cell_type": "markdown",
   "id": "3fa2c780",
   "metadata": {},
   "source": [
    "## 🔰 Question: 1"
   ]
  },
  {
   "cell_type": "markdown",
   "id": "e95b79b3",
   "metadata": {},
   "source": [
    "## Importing DataSet"
   ]
  },
  {
   "cell_type": "code",
   "execution_count": 2,
   "id": "e008f7b4",
   "metadata": {},
   "outputs": [],
   "source": [
    "data = pd.read_csv('https://raw.githubusercontent.com/anishaga/Machine-Learning/main/Lab%20Sheet%205/Wine.csv')\n",
    "X = data.iloc[:,:-1].values\n",
    "y = data.iloc[:,-1].values"
   ]
  },
  {
   "cell_type": "markdown",
   "id": "af35c444",
   "metadata": {},
   "source": [
    "## Splitting The DataSet Into Training And Testing"
   ]
  },
  {
   "cell_type": "code",
   "execution_count": 3,
   "id": "970d8244",
   "metadata": {},
   "outputs": [],
   "source": [
    "from sklearn.model_selection import train_test_split\n",
    "X_train, X_test, y_train, y_test = train_test_split(X, y, test_size = 0.20, random_state = 0)"
   ]
  },
  {
   "cell_type": "markdown",
   "id": "be5eee1f",
   "metadata": {},
   "source": [
    "## Feature Scaling"
   ]
  },
  {
   "cell_type": "code",
   "execution_count": 4,
   "id": "525f8ab0",
   "metadata": {},
   "outputs": [],
   "source": [
    "from sklearn.preprocessing import StandardScaler\n",
    "sc = StandardScaler()\n",
    "X_train = sc.fit_transform(X_train)\n",
    "X_test = sc.transform(X_test)"
   ]
  },
  {
   "cell_type": "markdown",
   "id": "45daf59f",
   "metadata": {},
   "source": [
    "## Applying PCA"
   ]
  },
  {
   "cell_type": "code",
   "execution_count": 5,
   "id": "156b2647",
   "metadata": {},
   "outputs": [],
   "source": [
    "from sklearn.decomposition import PCA\n",
    "pca = PCA(n_components = 2)\n",
    "X_train = pca.fit_transform(X_train)\n",
    "X_test = pca.transform(X_test)"
   ]
  },
  {
   "cell_type": "markdown",
   "id": "b321b613",
   "metadata": {},
   "source": [
    "## Training Logistic Regression Model On The Testing Data Set"
   ]
  },
  {
   "cell_type": "code",
   "execution_count": 6,
   "id": "53c22fd4",
   "metadata": {},
   "outputs": [
    {
     "data": {
      "text/plain": [
       "LogisticRegression()"
      ]
     },
     "execution_count": 6,
     "metadata": {},
     "output_type": "execute_result"
    }
   ],
   "source": [
    "from sklearn.linear_model import LogisticRegression\n",
    "classifier = LogisticRegression()\n",
    "classifier.fit(X_train, y_train)"
   ]
  },
  {
   "cell_type": "markdown",
   "id": "dc7516de",
   "metadata": {},
   "source": [
    "## Predicting Test Set Values "
   ]
  },
  {
   "cell_type": "code",
   "execution_count": 7,
   "id": "e7fee295",
   "metadata": {},
   "outputs": [],
   "source": [
    "y_pred = classifier.predict(X_test)"
   ]
  },
  {
   "cell_type": "markdown",
   "id": "98937145",
   "metadata": {},
   "source": [
    "## Making Confusion Matrix"
   ]
  },
  {
   "cell_type": "code",
   "execution_count": 8,
   "id": "003e76df",
   "metadata": {},
   "outputs": [
    {
     "name": "stdout",
     "output_type": "stream",
     "text": [
      "[[14  0  0]\n",
      " [ 1 15  0]\n",
      " [ 0  0  6]]\n"
     ]
    }
   ],
   "source": [
    "from sklearn.metrics import confusion_matrix\n",
    "cm = confusion_matrix(y_test, y_pred);\n",
    "print(cm)"
   ]
  },
  {
   "cell_type": "markdown",
   "id": "7d1a1255",
   "metadata": {},
   "source": [
    "## Finding Accuracy Score"
   ]
  },
  {
   "cell_type": "code",
   "execution_count": 9,
   "id": "d21b6735",
   "metadata": {},
   "outputs": [
    {
     "data": {
      "text/plain": [
       "0.9722222222222222"
      ]
     },
     "execution_count": 9,
     "metadata": {},
     "output_type": "execute_result"
    }
   ],
   "source": [
    "from sklearn.metrics import accuracy_score\n",
    "accuracy_score(y_test, y_pred)"
   ]
  },
  {
   "cell_type": "markdown",
   "id": "0c058be2",
   "metadata": {},
   "source": [
    "## 🔰 Question: 2"
   ]
  },
  {
   "cell_type": "markdown",
   "id": "8af841fc",
   "metadata": {},
   "source": [
    "## Importing DataSet"
   ]
  },
  {
   "cell_type": "code",
   "execution_count": 10,
   "id": "5194cf9a",
   "metadata": {},
   "outputs": [],
   "source": [
    "data = pd.read_csv('https://raw.githubusercontent.com/anishaga/Machine-Learning/main/Lab%20Sheet%205/Wine.csv')\n",
    "X = data.iloc[:,:-1].values\n",
    "y = data.iloc[:,-1].values"
   ]
  },
  {
   "cell_type": "markdown",
   "id": "02468190",
   "metadata": {},
   "source": [
    "## Splitting The DataSet Into Training And Testing"
   ]
  },
  {
   "cell_type": "code",
   "execution_count": 11,
   "id": "363b0bf9",
   "metadata": {},
   "outputs": [],
   "source": [
    "from sklearn.model_selection import train_test_split\n",
    "X_train, X_test, y_train, y_test = train_test_split(X, y, test_size = 0.3, random_state = 2)"
   ]
  },
  {
   "cell_type": "markdown",
   "id": "1d5fe0d4",
   "metadata": {},
   "source": [
    "## Feature Scaling"
   ]
  },
  {
   "cell_type": "code",
   "execution_count": 12,
   "id": "a3025ad7",
   "metadata": {},
   "outputs": [],
   "source": [
    "from sklearn.preprocessing import StandardScaler\n",
    "sc = StandardScaler()\n",
    "X_train = sc.fit_transform(X_train)\n",
    "X_test = sc.transform(X_test)"
   ]
  },
  {
   "cell_type": "markdown",
   "id": "0ad0df00",
   "metadata": {},
   "source": [
    "## Applying LDA"
   ]
  },
  {
   "cell_type": "code",
   "execution_count": 13,
   "id": "e0098a96",
   "metadata": {},
   "outputs": [],
   "source": [
    "from sklearn.discriminant_analysis import LinearDiscriminantAnalysis as LDA\n",
    "lda = LDA(n_components = 2)\n",
    "X_train = lda.fit_transform(X_train, y_train)\n",
    "X_test = lda.transform(X_test)"
   ]
  },
  {
   "cell_type": "markdown",
   "id": "16818ef8",
   "metadata": {},
   "source": [
    "## Training Logistic Regression Model On The Testing Data Set¶"
   ]
  },
  {
   "cell_type": "code",
   "execution_count": 14,
   "id": "4cede8d4",
   "metadata": {},
   "outputs": [
    {
     "data": {
      "text/plain": [
       "LogisticRegression()"
      ]
     },
     "execution_count": 14,
     "metadata": {},
     "output_type": "execute_result"
    }
   ],
   "source": [
    "from sklearn.linear_model import LogisticRegression\n",
    "classifier = LogisticRegression()\n",
    "classifier.fit(X_train, y_train)"
   ]
  },
  {
   "cell_type": "markdown",
   "id": "e62999d8",
   "metadata": {},
   "source": [
    "## Predicting Test Set Values"
   ]
  },
  {
   "cell_type": "code",
   "execution_count": 15,
   "id": "a02bb3e6",
   "metadata": {},
   "outputs": [],
   "source": [
    "y_pred = classifier.predict(X_test)"
   ]
  },
  {
   "cell_type": "markdown",
   "id": "bd0c255d",
   "metadata": {},
   "source": [
    "## Making Confusion Matrix"
   ]
  },
  {
   "cell_type": "code",
   "execution_count": 16,
   "id": "7a33653c",
   "metadata": {},
   "outputs": [
    {
     "name": "stdout",
     "output_type": "stream",
     "text": [
      "[[20  0  0]\n",
      " [ 0 20  0]\n",
      " [ 0  1 13]]\n"
     ]
    }
   ],
   "source": [
    "from sklearn.metrics import confusion_matrix\n",
    "cm = confusion_matrix(y_test, y_pred);\n",
    "print(cm)"
   ]
  },
  {
   "cell_type": "markdown",
   "id": "4386d3d4",
   "metadata": {},
   "source": [
    "## Finding Accuracy Score"
   ]
  },
  {
   "cell_type": "code",
   "execution_count": 17,
   "id": "b3dd517c",
   "metadata": {},
   "outputs": [
    {
     "data": {
      "text/plain": [
       "0.9814814814814815"
      ]
     },
     "execution_count": 17,
     "metadata": {},
     "output_type": "execute_result"
    }
   ],
   "source": [
    "from sklearn.metrics import accuracy_score\n",
    "accuracy_score(y_test, y_pred)"
   ]
  },
  {
   "cell_type": "markdown",
   "id": "73c6416d",
   "metadata": {},
   "source": [
    "## 🔰 Question: 3"
   ]
  },
  {
   "cell_type": "markdown",
   "id": "d9b1b206",
   "metadata": {},
   "source": [
    "We took the same dataset - `Wine.csv` for both PCA And LDA models\n",
    "\n",
    "- `PCA` had an accuracy of: `97.22%`\n",
    "- `LDA` had an accuracy of: `98.14%`"
   ]
  },
  {
   "cell_type": "markdown",
   "id": "b7a6bdd4",
   "metadata": {},
   "source": [
    "- PCA focuses on capturing the direction of maximum variation in the data set.\n",
    "- PCA performs better in case where number of samples per class is less. "
   ]
  },
  {
   "cell_type": "markdown",
   "id": "0e6e1d5e",
   "metadata": {},
   "source": [
    "- LDA focuses on finding a feature subspace that maximizes the separability between the groups\n",
    "- LDA works better with large dataset having multiple classes; class separability is an important factor while reducing dimensionality."
   ]
  }
 ],
 "metadata": {
  "kernelspec": {
   "display_name": "Python 3 (ipykernel)",
   "language": "python",
   "name": "python3"
  },
  "language_info": {
   "codemirror_mode": {
    "name": "ipython",
    "version": 3
   },
   "file_extension": ".py",
   "mimetype": "text/x-python",
   "name": "python",
   "nbconvert_exporter": "python",
   "pygments_lexer": "ipython3",
   "version": "3.9.7"
  }
 },
 "nbformat": 4,
 "nbformat_minor": 5
}
